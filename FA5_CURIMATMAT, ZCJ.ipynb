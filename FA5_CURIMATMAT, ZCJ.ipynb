{
 "cells": [
  {
   "cell_type": "code",
   "execution_count": 7,
   "id": "774ac303",
   "metadata": {},
   "outputs": [
    {
     "name": "stdout",
     "output_type": "stream",
     "text": [
      "Requirement already satisfied: Swampy in c:\\users\\zaira\\anaconda3\\lib\\site-packages (3.0.1)\n"
     ]
    }
   ],
   "source": [
    "!pip install Swampy"
   ]
  },
  {
   "cell_type": "code",
   "execution_count": 24,
   "id": "30f7bf30",
   "metadata": {},
   "outputs": [],
   "source": [
    "from swampy.TurtleWorld import *\n",
    "from random import *\n",
    "\n",
    "def MoveTo(t, x, y):\n",
    "    t.x = x\n",
    "    t.y = y\n",
    "    \n",
    "def DrawFence(r):\n",
    "    t = Turtle()\n",
    "    t.delay = .001\n",
    "    set_pen_color(t, 'gold')\n",
    "    pu(t)\n",
    "    t.x = 0\n",
    "    t.y = -r\n",
    "    pd(t)\n",
    "    for i in range(36):\n",
    "        fd(t, 2 * 3.14159 * r / 36)\n",
    "        lt(t, 10)\n",
    "    \n",
    "    die(t)\n",
    "    \n",
    "def BounceOffFence(t, r):\n",
    "    b = r - 3\n",
    "    \n",
    "    if t.x>b:\n",
    "        t.x = b\n",
    "        t.heading = 180\n",
    "        \n",
    "    if t.x<-b:\n",
    "        t.x = -b\n",
    "        t.heading = 0\n",
    "        \n",
    "    if t.y>b:\n",
    "        t.y = b\n",
    "        t.heading = 270\n",
    "    \n",
    "    if t.y<-b:\n",
    "        t.y = -b\n",
    "        t.heading = 90\n",
    "        \n",
    "world = TurtleWorld()\n",
    "fenceSize = 90\n",
    "DrawFence(fenceSize)\n",
    "bob = Turtle()\n",
    "set_color(bob, 'green')\n",
    "bob.delay = .01\n",
    "pu(bob)\n",
    "\n",
    "for i in range(1000):\n",
    "    BounceOffFence(bob, fenceSize)\n",
    "    fd(bob, 3) \n",
    "    angle = random() * 90 - 45\n",
    "    rt(bob, angle)\n",
    "    \n",
    "wait_for_user()"
   ]
  },
  {
   "cell_type": "code",
   "execution_count": null,
   "id": "bc852c8e",
   "metadata": {},
   "outputs": [],
   "source": []
  }
 ],
 "metadata": {
  "kernelspec": {
   "display_name": "Python 3 (ipykernel)",
   "language": "python",
   "name": "python3"
  },
  "language_info": {
   "codemirror_mode": {
    "name": "ipython",
    "version": 3
   },
   "file_extension": ".py",
   "mimetype": "text/x-python",
   "name": "python",
   "nbconvert_exporter": "python",
   "pygments_lexer": "ipython3",
   "version": "3.11.5"
  }
 },
 "nbformat": 4,
 "nbformat_minor": 5
}
