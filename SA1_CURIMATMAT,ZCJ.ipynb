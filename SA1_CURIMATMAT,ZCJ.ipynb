{
 "cells": [
  {
   "cell_type": "markdown",
   "id": "9db3e3c9",
   "metadata": {},
   "source": [
    "# 1. words.txt"
   ]
  },
  {
   "cell_type": "code",
   "execution_count": 9,
   "id": "b8804bdb",
   "metadata": {},
   "outputs": [
    {
     "name": "stdout",
     "output_type": "stream",
     "text": [
      "Dataset saved to file.\n",
      "Total number of words in the file: 113783\n",
      "Longest word in the file: counterdemonstrations\n",
      "Enter a letter for words starting with: b\n",
      "Number of words starting with '{letter}':  6844\n",
      "Enter a substring to search for words: rest\n",
      "Words containing 'rest': ['addrest', 'afforest', 'afforested', 'afforesting', 'afforests', 'agrestal', 'agrestic', 'airest', 'armrest', 'armrests', 'arrest', 'arrested', 'arrestee', 'arrestees', 'arrester', 'arresters', 'arresting', 'arrestor', 'arrestors', 'arrests', 'austerest', 'backrest', 'backrests', 'barest', 'bitterest', 'bookrest', 'bookrests', 'cabresta', 'cabrestas', 'cabresto', 'cabrestos', 'clearest', 'cleverest', 'crest', 'crestal', 'crested', 'crestfallen', 'crestfallens', 'cresting', 'crestings', 'crests', 'dapperest', 'dearest', 'deforest', 'deforested', 'deforesting', 'deforests', 'demurest', 'direst', 'disinterested', 'disinterestedness', 'disinterestednesses', 'dourest', 'drest', 'eagerest', 'extraterrestrial', 'fairest', 'footrest', 'footrests', 'forest', 'forestal', 'forestall', 'forestalled', 'forestalling', 'forestalls', 'forestay', 'forestays', 'forested', 'forester', 'foresters', 'foresting', 'forestland', 'forestlands', 'forestries', 'forestry', 'forests', 'headrest', 'headrests', 'imprest', 'imprests', 'interest', 'interested', 'interesting', 'interestingly', 'interests', 'limberest', 'maturest', 'merest', 'nearest', 'nonrestricted', 'obscurest', 'overestimate', 'overestimated', 'overestimates', 'overestimating', 'paresthesia', 'poorest', 'prest', 'prestamp', 'prestamped', 'prestamping', 'prestamps', 'prester', 'presterilize', 'presterilized', 'presterilizes', 'presterilizing', 'presters', 'prestidigitation', 'prestidigitations', 'prestige', 'prestiges', 'prestigious', 'presto', 'prestos', 'prestrike', 'prests', 'properest', 'purest', 'queerest', 'rarest', 'rearrest', 'rearrested', 'rearresting', 'rearrests', 'reforest', 'reforested', 'reforesting', 'reforests', 'rest', 'restack', 'restacked', 'restacking', 'restacks', 'restaff', 'restaffed', 'restaffing', 'restaffs', 'restage', 'restaged', 'restages', 'restaging', 'restamp', 'restamped', 'restamping', 'restamps', 'restart', 'restartable', 'restarted', 'restarting', 'restarts', 'restate', 'restated', 'restatement', 'restatements', 'restates', 'restating', 'restaurant', 'restaurants', 'rested', 'rester', 'resters', 'restful', 'restfuller', 'restfullest', 'restfully', 'restimulate', 'restimulated', 'restimulates', 'restimulating', 'resting', 'restitution', 'restitutions', 'restive', 'restively', 'restiveness', 'restivenesses', 'restless', 'restlessness', 'restlessnesses', 'restock', 'restocked', 'restocking', 'restocks', 'restorable', 'restoral', 'restorals', 'restoration', 'restorations', 'restorative', 'restoratives', 'restore', 'restored', 'restorer', 'restorers', 'restores', 'restoring', 'restrain', 'restrainable', 'restrained', 'restrainedly', 'restrainer', 'restrainers', 'restraining', 'restrains', 'restraint', 'restraints', 'restricken', 'restrict', 'restricted', 'restricting', 'restriction', 'restrictions', 'restrictive', 'restrictively', 'restricts', 'restrike', 'restrikes', 'restriking', 'restring', 'restringing', 'restrings', 'restrive', 'restriven', 'restrives', 'restriving', 'restrove', 'restruck', 'restructure', 'restructured', 'restructures', 'restructuring', 'restrung', 'rests', 'restudied', 'restudies', 'restudy', 'restudying', 'restuff', 'restuffed', 'restuffing', 'restuffs', 'restyle', 'restyled', 'restyles', 'restyling', 'searest', 'securest', 'serest', 'severest', 'sheerest', 'sincerest', 'slenderest', 'soberest', 'sorest', 'sourest', 'sparest', 'squarest', 'surest', 'tenderest', 'terrestrial', 'trestle', 'trestles', 'unclearest', 'underestimate', 'underestimated', 'underestimates', 'underestimating', 'undrest', 'unfairest', 'uninterested', 'uninteresting', 'unrest', 'unrested', 'unrestrained', 'unrestricted', 'unrests', 'vulgarest', 'wrest', 'wrested', 'wrester', 'wresters', 'wresting', 'wrestle', 'wrestled', 'wrestler', 'wrestlers', 'wrestles', 'wrestling', 'wrests', 'yarest']\n",
      "Palindromes: ['aa', 'aba', 'aga', 'aha', 'ala', 'alula', 'ama', 'ana', 'anna', 'ava', 'awa', 'bib', 'bob', 'boob', 'bub', 'civic', 'dad', 'deed', 'deified', 'deked', 'deled', 'denned', 'dewed', 'did', 'dud', 'eke', 'eme', 'ere', 'eve', 'ewe', 'eye', 'gag', 'gig', 'hah', 'halalah', 'hallah', 'huh', 'kaiak', 'kayak', 'keek', 'kook', 'level', 'madam', 'marram', 'mem', 'mim', 'minim', 'mom', 'mum', 'noon', 'nun', 'oho', 'otto', 'pap', 'peep', 'pep', 'pip', 'poop', 'pop', 'pup', 'radar', 'redder', 'refer', 'reifier', 'repaper', 'reviver', 'rotator', 'rotor', 'sagas', 'sees', 'selles', 'sememes', 'semes', 'seres', 'sexes', 'shahs', 'sis', 'solos', 'sos', 'stets', 'tat', 'tenet', 'terret', 'tit', 'toot', 'tot', 'tut', 'vav', 'waw', 'wow', 'yay']\n",
      "Letter frequency:\n",
      "a: 68574\n",
      "b: 17794\n",
      "c: 34281\n",
      "d: 34548\n",
      "e: 106752\n",
      "f: 12706\n",
      "g: 27832\n",
      "h: 20186\n",
      "i: 77392\n",
      "j: 1780\n",
      "k: 9366\n",
      "l: 47003\n",
      "m: 24739\n",
      "n: 60505\n",
      "o: 54538\n",
      "p: 25789\n",
      "q: 1632\n",
      "r: 64963\n",
      "s: 86526\n",
      "t: 57029\n",
      "u: 31151\n",
      "v: 9186\n",
      "w: 8533\n",
      "x: 2700\n",
      "y: 13473\n",
      "z: 3750\n"
     ]
    }
   ],
   "source": [
    "import requests\n",
    "import re\n",
    "url = 'https://raw.githubusercontent.com/AllenDowney/ThinkPython2/master/code/words.txt'\n",
    "\n",
    "response = requests.get(url)\n",
    "\n",
    "if response.status_code == 200:\n",
    "    with open('words.txt', 'wb') as f:\n",
    "        f.write(response.content)\n",
    "        print('Dataset saved to file.')\n",
    "else:\n",
    "    print('Failed to download dataset.')\n",
    "\n",
    "with open('words.txt', 'r') as f:\n",
    "    words = f.read().split()\n",
    "\n",
    "total_words = len(words)\n",
    "\n",
    "print(\"Total number of words in the file:\", total_words)\n",
    "\n",
    "with open('words.txt', 'r') as f:\n",
    "    words = f.read().split()\n",
    "\n",
    "longest_word = max(words, key=len)\n",
    "\n",
    "print(\"Longest word in the file:\", longest_word)\n",
    "\n",
    "letter = input(\"Enter a letter for words starting with: \").lower()\n",
    "with open('words.txt', 'r') as f:\n",
    "    \n",
    "    words = f.read().split()\n",
    "\n",
    "starting_letter = sum(1 for word in words if word.startswith(letter))\n",
    "\n",
    "print(\"Number of words starting with '{letter}': \", starting_letter)\n",
    "\n",
    "substring = input(\"Enter a substring to search for words: \")\n",
    "\n",
    "with open('words.txt', 'r') as f:\n",
    "    words = f.read().split()\n",
    "\n",
    "with_substring = [word for word in words if substring in word]\n",
    "print(f\"Words containing '{substring}': {with_substring}\")\n",
    "\n",
    "def is_palindrome(word):\n",
    "    return word == word[::-1]\n",
    "\n",
    "with open('words.txt', 'r') as f:\n",
    "    words = f.read().split()\n",
    "\n",
    "palindromes = [word for word in words if is_palindrome(word)]\n",
    "print(\"Palindromes:\", palindromes)\n",
    "\n",
    "with open('words.txt', 'r') as f:\n",
    "    content = f.read()\n",
    "    \n",
    "letter_frequency = {}\n",
    "\n",
    "for char in content:\n",
    "    if char.isalpha():\n",
    "        char = char.lower()\n",
    "        letter_frequency[char] = letter_frequency.get(char, 0) + 1\n",
    "        \n",
    "print(\"Letter frequency:\")\n",
    "for char, frequency in sorted(letter_frequency.items()):\n",
    "    print(f\"{char}: {frequency}\")\n"
   ]
  },
  {
   "cell_type": "markdown",
   "id": "770d1157",
   "metadata": {},
   "source": [
    "# 2. Write a program on the Fibonacci sequence using both iterations and recursion, and including rendering time to compare the performance of both approaches."
   ]
  },
  {
   "cell_type": "code",
   "execution_count": 18,
   "id": "6bc0b573",
   "metadata": {},
   "outputs": [
    {
     "name": "stdout",
     "output_type": "stream",
     "text": [
      "Fibonacci iteration result(20):  6765\n",
      "Rendering time:  0.0 seconds\n",
      "Fibonacci recursion(20):  6765\n",
      "Rendering time:  0.0014486312866210938 seconds\n"
     ]
    }
   ],
   "source": [
    "import time\n",
    "\n",
    "def fibonacci_iteration(n):\n",
    "    if n <= 1:\n",
    "        return n\n",
    "    else:\n",
    "        fib_sequence = [0, 1]\n",
    "        for i in range(2, n+1):\n",
    "            fib_sequence.append(fib_sequence[-1] + fib_sequence[-2])\n",
    "        return fib_sequence[-1]\n",
    "\n",
    "def fibonacci_recursion(n):\n",
    "    if n <= 1:\n",
    "        return n\n",
    "    else:\n",
    "        return fibonacci_recursion(n-1) + fibonacci_recursion(n-2)\n",
    "\n",
    "def rendering_time(func, *args):\n",
    "    start_time = time.time()\n",
    "    result = func(*args)\n",
    "    end_time = time.time()\n",
    "    execution = end_time - start_time\n",
    "    return result, execution\n",
    "\n",
    "n = 20\n",
    "result_iteration, time_iteration = rendering_time(fibonacci_iteration, n)\n",
    "result_recursion, time_recursion = rendering_time(fibonacci_recursion, n)\n",
    "\n",
    "print(\"Fibonacci iteration result(20): \", result_iteration)\n",
    "print(\"Rendering time: \", (time_iteration), \"seconds\")\n",
    "print(\"Fibonacci recursion(20): \", result_recursion)\n",
    "print(\"Rendering time: \", (time_recursion),  \"seconds\")"
   ]
  },
  {
   "cell_type": "code",
   "execution_count": null,
   "id": "e94c1c70",
   "metadata": {},
   "outputs": [],
   "source": []
  }
 ],
 "metadata": {
  "kernelspec": {
   "display_name": "Python 3 (ipykernel)",
   "language": "python",
   "name": "python3"
  },
  "language_info": {
   "codemirror_mode": {
    "name": "ipython",
    "version": 3
   },
   "file_extension": ".py",
   "mimetype": "text/x-python",
   "name": "python",
   "nbconvert_exporter": "python",
   "pygments_lexer": "ipython3",
   "version": "3.11.5"
  }
 },
 "nbformat": 4,
 "nbformat_minor": 5
}
