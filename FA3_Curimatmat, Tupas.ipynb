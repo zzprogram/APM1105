{
 "cells": [
  {
   "cell_type": "markdown",
   "id": "5ae5b53c",
   "metadata": {},
   "source": [
    "# 1.The volume of a sphere with radius r is (4/3)πr^3. What is the volume of a sphere with radius 5?"
   ]
  },
  {
   "cell_type": "code",
   "execution_count": 5,
   "id": "434d90c7",
   "metadata": {},
   "outputs": [
    {
     "name": "stdout",
     "output_type": "stream",
     "text": [
      "Enter radius: 5\n",
      "volume of a sphere with radius 5: 523.60\n"
     ]
    }
   ],
   "source": [
    "import math\n",
    "\n",
    "r = input(\"Enter radius: \")\n",
    "v = 4/3*math.pi*float(r)**3\n",
    "print(\"volume of a sphere with radius 5: %0.2f\" %(v))"
   ]
  },
  {
   "cell_type": "markdown",
   "id": "41f38912",
   "metadata": {},
   "source": [
    "# 2. Suppose the cover price of a book is 24.95 dollar,but bookstores get a 40% discount. Shipping costs 3 dollar for the first copy and 75 cents for each additional copy. What is the total wholesale cost for 60 copies?"
   ]
  },
  {
   "cell_type": "code",
   "execution_count": 15,
   "id": "95d21c2b",
   "metadata": {},
   "outputs": [
    {
     "name": "stdout",
     "output_type": "stream",
     "text": [
      "Enter copies: 60\n",
      "Total wholesale cost: $945.45\n"
     ]
    }
   ],
   "source": [
    "copy = input(\"Enter copies: \")\n",
    "cover_price = 24.95*(1-0.4)*float(copy)\n",
    "ship_cost = 3+(0.75*(float(copy)-1))\n",
    "total_cost = cover_price+ship_cost\n",
    "print(\"Total wholesale cost: $%0.2f\" %(total_cost))"
   ]
  },
  {
   "cell_type": "markdown",
   "id": "99681019",
   "metadata": {},
   "source": [
    "# 3. If I leave my house at 6:52 am and run 1 mile at an easy pace (8:15 per mile), then 3 miles at tempo (7:12 per mile) and 1 mile at an easy pace again, what time do I get home for breakfast?"
   ]
  },
  {
   "cell_type": "code",
   "execution_count": 24,
   "id": "5de51d88",
   "metadata": {},
   "outputs": [
    {
     "name": "stdout",
     "output_type": "stream",
     "text": [
      "7:30 am\n"
     ]
    }
   ],
   "source": [
    "start_hours = 6\n",
    "start_minutes = 52\n",
    "\n",
    "start_secs = (start_hours*3600)+(start_minutes*60)\n",
    "easy_pace_secs = (60*8)+15\n",
    "tempo_pace_secs = (60*7)+12\n",
    "\n",
    "total_secs = (easy_pace_secs*2)+(tempo_pace_secs*3)\n",
    "end_secs = start_secs+total_secs\n",
    "end_hours = end_secs//3600\n",
    "end_mins = (end_secs%3600)//60\n",
    "\n",
    "print(\"%d:%d am\" %(end_hours, end_mins))"
   ]
  }
 ],
 "metadata": {
  "kernelspec": {
   "display_name": "Python 3 (ipykernel)",
   "language": "python",
   "name": "python3"
  },
  "language_info": {
   "codemirror_mode": {
    "name": "ipython",
    "version": 3
   },
   "file_extension": ".py",
   "mimetype": "text/x-python",
   "name": "python",
   "nbconvert_exporter": "python",
   "pygments_lexer": "ipython3",
   "version": "3.11.5"
  }
 },
 "nbformat": 4,
 "nbformat_minor": 5
}
