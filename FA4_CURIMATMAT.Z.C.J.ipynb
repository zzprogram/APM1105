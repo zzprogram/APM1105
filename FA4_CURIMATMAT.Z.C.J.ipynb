{
 "cells": [
  {
   "cell_type": "markdown",
   "id": "02763be3",
   "metadata": {},
   "source": [
    "# 1. Write a Python program to print the even numbers from a given list.\n",
    "\n",
    "List: [1, 2, 3, 4, 5, 6, 7, 8, 9, 10, 11, 13, 15, 17, 19, 24, 26, 28, 30, 32]"
   ]
  },
  {
   "cell_type": "code",
   "execution_count": 1,
   "id": "83808547",
   "metadata": {},
   "outputs": [
    {
     "name": "stdout",
     "output_type": "stream",
     "text": [
      "List of even numbers:  [2, 4, 6, 8, 10, 24, 226, 28, 30, 32]\n"
     ]
    }
   ],
   "source": [
    "number_list = [1,2,3,4,5,6,7,8,9,10,11,3,15,17,19,24,226,28,30,32]\n",
    "even = [e for e in number_list if e %2 == 0]\n",
    "print(\"List of even numbers: \", even)"
   ]
  },
  {
   "cell_type": "markdown",
   "id": "22c3fc2c",
   "metadata": {},
   "source": [
    "# 2. Generate a Python list of all the even numbers between 10 to 60."
   ]
  },
  {
   "cell_type": "code",
   "execution_count": 2,
   "id": "f19a3a50",
   "metadata": {},
   "outputs": [
    {
     "name": "stdout",
     "output_type": "stream",
     "text": [
      "Enter start range: 10\n",
      "Enter end range: 60\n",
      "All even numbers between 10 to 60:  [10, 12, 14, 16, 18, 20, 22, 24, 26, 28, 30, 32, 34, 36, 38, 40, 42, 44, 46, 48, 50, 52, 54, 56, 58, 60]\n"
     ]
    }
   ],
   "source": [
    "start_range = 10\n",
    "end_range = 60\n",
    "\n",
    "sr = input(\"Enter start range: \")\n",
    "er = input(\"Enter end range: \")\n",
    "even = [e for e in range(start_range,end_range+1) if e %2 == 0]\n",
    "\n",
    "print(\"All even numbers between 10 to 60: \", even)"
   ]
  },
  {
   "cell_type": "markdown",
   "id": "0a936d6b",
   "metadata": {},
   "source": [
    "# 3. Write a program to create a function show_feu_professor() using the following conditions:\n",
    "\n",
    "It should accept the professor’s name and salary and display both.\n",
    "\n",
    "If the salary is missing in the function call then assign default value 70000 to salary.\n",
    "\n",
    "Expected output: Display of at least 5 FEU professors with their salaries."
   ]
  },
  {
   "cell_type": "code",
   "execution_count": 4,
   "id": "61c228b5",
   "metadata": {},
   "outputs": [
    {
     "name": "stdout",
     "output_type": "stream",
     "text": [
      "FEU Professor: Rex Llonora\n",
      "Professor's Name:  Rex Llonora\n",
      "Professor's Salary:  70000\n",
      "\n",
      "FEU Professor: May Anne Tirado\n",
      "Professor's Name:  May Anne Tirado\n",
      "Professor's Salary:  45000\n",
      "\n",
      "FEU Professor: Greg Dulay\n",
      "Professor's Name:  Greg Dulay\n",
      "Professor's Salary:  50000\n",
      "\n",
      "FEU Professor: Jeffrey Alvarina\n",
      "Professor's Name:  Jeffrey Alvarina\n",
      "Professor's Salary:  70000\n",
      "\n",
      "FEU Professor: Maria Lourdes Mariano\n",
      "Professor's Name:  Maria Lourdes Mariano\n",
      "Professor's Salary:  55000\n",
      "\n"
     ]
    }
   ],
   "source": [
    "def show_feu_professors(name, salary = 70000):\n",
    "    p = input(\"FEU Professor: \")\n",
    "    print(\"Professor's Name: \",  name)\n",
    "    print(\"Professor's Salary: \", str(salary) + \"\\n\")\n",
    "    \n",
    "feu_professors = [show_feu_professors(\"Rex Llonora\"),\n",
    "show_feu_professors(\"May Anne Tirado\", 45000),\n",
    "show_feu_professors(\"Greg Dulay\", 50000),\n",
    "show_feu_professors(\"Jeffrey Alvarina\"),\n",
    "show_feu_professors(\"Maria Lourdes Mariano\", 55000)]"
   ]
  }
 ],
 "metadata": {
  "kernelspec": {
   "display_name": "Python 3 (ipykernel)",
   "language": "python",
   "name": "python3"
  },
  "language_info": {
   "codemirror_mode": {
    "name": "ipython",
    "version": 3
   },
   "file_extension": ".py",
   "mimetype": "text/x-python",
   "name": "python",
   "nbconvert_exporter": "python",
   "pygments_lexer": "ipython3",
   "version": "3.11.5"
  }
 },
 "nbformat": 4,
 "nbformat_minor": 5
}
