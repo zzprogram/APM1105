{
 "cells": [
  {
   "cell_type": "markdown",
   "id": "10353118",
   "metadata": {},
   "source": [
    "# 1. Write a function named ack that evaluates the Ackermann function. Use your function to evaluate ack(2,4). What happens for larger values of m and n?"
   ]
  },
  {
   "cell_type": "code",
   "execution_count": 42,
   "id": "2c6d3100",
   "metadata": {},
   "outputs": [
    {
     "name": "stdout",
     "output_type": "stream",
     "text": [
      "results:  (2, 4)\n"
     ]
    }
   ],
   "source": [
    "def ack(m, n):\n",
    "    if m == 0:\n",
    "        return n + 1\n",
    "    elif m > 0 & n == 0:\n",
    "        return ack(m -1, 1)\n",
    "    else:\n",
    "        return ack(m - 1, ack(m, n -1))\n",
    "\n",
    "ack = (2, 4)\n",
    "print (\"results: \", ack)"
   ]
  },
  {
   "cell_type": "markdown",
   "id": "448cde6e",
   "metadata": {},
   "source": [
    "#  2. A number, a is a power of b if it is divisible by b and a/b is a power of b. Write a function called is_power that takes parameters a and b and returns True if a is a power of b. Note: you will have to think about a base case. (Note: It should work with float.)\n"
   ]
  },
  {
   "cell_type": "code",
   "execution_count": 52,
   "id": "90b51125",
   "metadata": {},
   "outputs": [
    {
     "name": "stdout",
     "output_type": "stream",
     "text": [
      "True\n",
      "True\n",
      "False\n"
     ]
    }
   ],
   "source": [
    "def is_power(a, b):\n",
    "    if a == 1:\n",
    "        return \"True\"\n",
    "    if a % b == 0 and is_power(a / b, b):\n",
    "        return \"True\"\n",
    "    return \"False\"\n",
    "\n",
    "print(is_power(36, 6)) \n",
    "print(is_power(15, 5))  \n",
    "print(is_power(48, 5))  "
   ]
  }
 ],
 "metadata": {
  "kernelspec": {
   "display_name": "Python 3 (ipykernel)",
   "language": "python",
   "name": "python3"
  },
  "language_info": {
   "codemirror_mode": {
    "name": "ipython",
    "version": 3
   },
   "file_extension": ".py",
   "mimetype": "text/x-python",
   "name": "python",
   "nbconvert_exporter": "python",
   "pygments_lexer": "ipython3",
   "version": "3.9.13"
  }
 },
 "nbformat": 4,
 "nbformat_minor": 5
}
