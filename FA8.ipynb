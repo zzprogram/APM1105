{
 "cells": [
  {
   "cell_type": "markdown",
   "id": "1163b4a5",
   "metadata": {},
   "source": [
    "## 1. Create an exponent calculator using both iterations and recursion, with rendering time."
   ]
  },
  {
   "cell_type": "code",
   "execution_count": 1,
   "id": "4852c357",
   "metadata": {},
   "outputs": [
    {
     "name": "stdout",
     "output_type": "stream",
     "text": [
      "Enter the base: 3\n",
      "Enter the exponent: 4\n",
      "Rendering time:  0.001285 seconds\n",
      "Iterative:  81\n"
     ]
    }
   ],
   "source": [
    "import time\n",
    "def iterative_exponent(base,exponent):\n",
    "    i=1\n",
    "    power=1\n",
    "    while i<=exponent:\n",
    "        power=power*base\n",
    "        i=i+1\n",
    "    return power\n",
    "\n",
    "base=int(input(\"Enter the base: \"))\n",
    "exponent=int(input(\"Enter the exponent: \"))\n",
    "\n",
    "start = time.time()\n",
    "power=iterative_exponent(base,exponent)\n",
    "end = time.time()\n",
    "\n",
    "print(\"Rendering time: \", \"{:.6f} seconds\".format(end - start))\n",
    "print(\"Iterative: \", \"%d\" %(power))"
   ]
  },
  {
   "cell_type": "code",
   "execution_count": 1,
   "id": "e9fe6f35",
   "metadata": {},
   "outputs": [
    {
     "name": "stdout",
     "output_type": "stream",
     "text": [
      "Enter the base: 3\n",
      "Enter the exponent: 4\n",
      "Rendering time: 0.001044 seconds\n",
      "Recursive:  81\n"
     ]
    }
   ],
   "source": [
    "import time\n",
    "def recursive_exponent(base, exponent):\n",
    "    if exponent == 1:\n",
    "        return base\n",
    "    else:\n",
    "        return base * recursive_exponent(base, exponent - 1)\n",
    "\n",
    "base = int(input(\"Enter the base: \"))\n",
    "exponent = int(input(\"Enter the exponent: \"))\n",
    "    \n",
    "start = time.time()\n",
    "result = recursive_exponent(base, exponent)\n",
    "end = time.time()\n",
    "\n",
    "print(\"Rendering time:\", \"{:.6f} seconds\".format(end - start))\n",
    "print(\"Recursive: \", result)"
   ]
  },
  {
   "cell_type": "markdown",
   "id": "468ab2f9",
   "metadata": {},
   "source": [
    "Recursive is faster than the Iterative base on the results."
   ]
  },
  {
   "cell_type": "code",
   "execution_count": null,
   "id": "e99c5d09",
   "metadata": {},
   "outputs": [],
   "source": []
  }
 ],
 "metadata": {
  "kernelspec": {
   "display_name": "Python 3 (ipykernel)",
   "language": "python",
   "name": "python3"
  },
  "language_info": {
   "codemirror_mode": {
    "name": "ipython",
    "version": 3
   },
   "file_extension": ".py",
   "mimetype": "text/x-python",
   "name": "python",
   "nbconvert_exporter": "python",
   "pygments_lexer": "ipython3",
   "version": "3.11.5"
  }
 },
 "nbformat": 4,
 "nbformat_minor": 5
}
